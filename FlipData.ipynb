{
 "cells": [
  {
   "cell_type": "code",
   "execution_count": 37,
   "metadata": {},
   "outputs": [],
   "source": [
    "import cv2\n",
    "import os\n",
    "from os.path import join, basename\n",
    "import ntpath\n",
    "import json"
   ]
  },
  {
   "cell_type": "code",
   "execution_count": null,
   "metadata": {},
   "outputs": [],
   "source": [
    "base_dir = 'data'\n",
    "output_dir = 'flipped'\n",
    "\n",
    "if not os.path.exists('flipped'):\n",
    "    os.mkdir('flipped')\n",
    "\n",
    "images_dirs = [join(base_dir, name) for name in os.listdir(base_dir)]\n",
    "for folder in images_dirs: \n",
    "     if ntpath.basename(folder).startswith('tub'):        \n",
    "        des = output_dir + '/' + ntpath.basename(folder) + '_f'\n",
    "        if not os.path.exists(output_dir + '/' + ntpath.basename(folder) + '_f'):\n",
    "            os.mkdir(output_dir + '/' + ntpath.basename(folder) + '_f')\n",
    "\n",
    "        test_images = [join(folder, name) for name in os.listdir(folder)]\n",
    "        for img in test_images:\n",
    "            if img.endswith('.jpg'):\n",
    "                image = cv2.imread(img)\n",
    "\n",
    "                flipped = cv2.flip(image,1)\n",
    "\n",
    "                cv2.imwrite(des + '/' + ntpath.basename(img) , flipped)\n",
    "\n",
    "            if img.endswith('.json') & ntpath.basename(img).startswith('record'):\n",
    "                with open(img) as f:\n",
    "                    data = json.load(f)\n",
    "\n",
    "                    data1 = {}  \n",
    "                    data1['cam/image_array'] = data['cam/image_array']\n",
    "                    data1['user/mode'] = data['user/mode']\n",
    "                    data1['timestamp'] = data['timestamp']\n",
    "                    data1['user/throttle'] = data['user/throttle']\n",
    "                    data1['user/angle'] = data['user/angle'] * -1\n",
    "\n",
    "                    with open(des + '/' + ntpath.basename(img), 'w') as outfile:  \n",
    "                        json.dump(data1, outfile)\n",
    "\n",
    "            if img.endswith('meta.json'):\n",
    "                with open(img) as f:\n",
    "                    data = json.load(f)\n",
    "\n",
    "                    with open(des + '/' + ntpath.basename(img), 'w') as outfile:  \n",
    "                        json.dump(data, outfile)"
   ]
  },
  {
   "cell_type": "code",
   "execution_count": null,
   "metadata": {},
   "outputs": [],
   "source": []
  },
  {
   "cell_type": "code",
   "execution_count": null,
   "metadata": {},
   "outputs": [],
   "source": []
  }
 ],
 "metadata": {
  "kernelspec": {
   "display_name": "Python 3",
   "language": "python",
   "name": "python3"
  },
  "language_info": {
   "codemirror_mode": {
    "name": "ipython",
    "version": 3
   },
   "file_extension": ".py",
   "mimetype": "text/x-python",
   "name": "python",
   "nbconvert_exporter": "python",
   "pygments_lexer": "ipython3",
   "version": "3.6.4"
  }
 },
 "nbformat": 4,
 "nbformat_minor": 2
}
